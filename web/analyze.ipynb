{
 "cells": [
  {
   "cell_type": "code",
   "execution_count": 1,
   "metadata": {},
   "outputs": [],
   "source": [
    "import os\n",
    "from datetime import datetime\n",
    "\n",
    "WEB_LOG_NAME = 'debug.log.8'\n",
    "\n",
    "logs = {}\n",
    "earliest_task_start_time = None\n",
    "latest_submit_time = None\n",
    "latest_finish_time = None"
   ]
  },
  {
   "cell_type": "code",
   "execution_count": 2,
   "metadata": {},
   "outputs": [],
   "source": [
    "with open(WEB_LOG_NAME, 'r') as f:\n",
    "    lines = f.readlines()\n",
    "    count = 0\n",
    "    for line in lines:\n",
    "        if \"job task started\" in line:\n",
    "            splits = line.split(' ')\n",
    "            ts_string = splits[1] + ' ' + splits[2]\n",
    "            dt_object = datetime.strptime(ts_string, '%Y-%m-%d %H:%M:%S,%f')\n",
    "            uid = splits[6]\n",
    "            node = splits[-1].rstrip('\\n')\n",
    "            logs[uid] = {'started': (node, dt_object)}\n",
    "            if earliest_task_start_time is None or dt_object < earliest_task_start_time:\n",
    "                earliest_task_start_time = dt_object\n",
    "    for line in lines:\n",
    "        if \"is submitted\" in line:\n",
    "            splits = line.split(' ')\n",
    "            ts_string = splits[1] + ' ' + splits[2]\n",
    "            dt_object = datetime.strptime(ts_string, '%Y-%m-%d %H:%M:%S,%f')\n",
    "            uid = splits[5]\n",
    "            logs[uid]['submitted'] = (dt_object)\n",
    "            if latest_submit_time is None or dt_object > latest_submit_time:\n",
    "                latest_submit_time = dt_object\n",
    "    for line in lines:\n",
    "        if \"finished\" in line:\n",
    "            splits = line.split(' ')\n",
    "            ts_string = splits[1] + ' ' + splits[2]\n",
    "            dt_object = datetime.strptime(ts_string, '%Y-%m-%d %H:%M:%S,%f')\n",
    "            uid = splits[6]\n",
    "            node = splits[-1].rstrip('\\n')\n",
    "            logs[uid]['finished'] = (node, dt_object)\n",
    "            if latest_finish_time is None or dt_object > latest_finish_time:\n",
    "                latest_finish_time = dt_object"
   ]
  },
  {
   "cell_type": "code",
   "execution_count": 3,
   "metadata": {},
   "outputs": [
    {
     "name": "stdout",
     "output_type": "stream",
     "text": [
      "total time:  422.744\n",
      "task distribution:  {'celery@xgpg0': 100}\n",
      "avg execute time:  16.32399\n"
     ]
    }
   ],
   "source": [
    "# the start time is defined to be the earlier of {last submitted time, first start task time}\n",
    "start_time = latest_submit_time\n",
    "if earliest_task_start_time < start_time:\n",
    "    start_time = earliest_task_start_time\n",
    "# total time is defined to be the difference between the start time and the latest task finish time\n",
    "total_time = (latest_finish_time - start_time).total_seconds()\n",
    "print('total time: ', total_time)\n",
    "\n",
    "from statistics import mean\n",
    "count = {}\n",
    "execute_times = []\n",
    "wait_times = []\n",
    "\n",
    "for uid in logs:\n",
    "    log = logs[uid]\n",
    "    # check if tasks are distributed evenly\n",
    "    if log['started'][0] in count.keys():\n",
    "        count[log['started'][0]] += 1\n",
    "    else:\n",
    "        count[log['started'][0]] = 1\n",
    "    # execute time = task finished - task started\n",
    "    execute_time = (log['finished'][1] - log['started'][1]).total_seconds()\n",
    "    execute_times.append(execute_time)\n",
    "print('task distribution: ', count)\n",
    "print('avg execute time: ', mean(execute_times))"
   ]
  },
  {
   "cell_type": "code",
   "execution_count": 4,
   "metadata": {},
   "outputs": [],
   "source": [
    "# Scalability test\n",
    "# 1 nodes: 235.426s (baseline)\n",
    "# 2 nodes: 128.261s (91.78%)\n",
    "# 3 nodes: 92.475s (84.86%)\n",
    "\n",
    "# Load balancing test\n",
    "# 2 nodes: {'celery@xgpg0': 50, 'celery@xgpg1': 50}\n",
    "# 3 nodes: {'celery@xgpg0': 34, 'celery@xgpg1': 36, 'celery@xgpg2': 30}\n",
    "\n",
    "# Per-worker concurrency test\n",
    "# 1: 1558.811s (baseline)\n",
    "# 2: 859.237s (90.71%)\n",
    "# 4: 422.744s (92.18%)\n",
    "# 8: 235.426s (82.77%)"
   ]
  }
 ],
 "metadata": {
  "kernelspec": {
   "display_name": "Python 3",
   "language": "python",
   "name": "python3"
  },
  "language_info": {
   "codemirror_mode": {
    "name": "ipython",
    "version": 3
   },
   "file_extension": ".py",
   "mimetype": "text/x-python",
   "name": "python",
   "nbconvert_exporter": "python",
   "pygments_lexer": "ipython3",
   "version": "3.7.4"
  }
 },
 "nbformat": 4,
 "nbformat_minor": 2
}
